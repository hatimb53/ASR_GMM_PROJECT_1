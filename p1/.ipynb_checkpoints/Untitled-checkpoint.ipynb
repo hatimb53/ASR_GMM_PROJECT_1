{
 "cells": [
  {
   "cell_type": "code",
   "execution_count": 21,
   "metadata": {},
   "outputs": [],
   "source": [
    "from sklearn.mixture import GaussianMixture\n",
    "import pandas as pd\n",
    "import numpy as np\n",
    "import math\n",
    "import pickle"
   ]
  },
  {
   "cell_type": "code",
   "execution_count": 35,
   "metadata": {},
   "outputs": [],
   "source": [
    "\n",
    "def transform(file1,file2):\n",
    "    x=np.load(file1).tolist()\n",
    "    y=np.load(file2).tolist()\n",
    "    return pd.DataFrame({\"feature\":x,\"label\":y})\n",
    "\n",
    "\n",
    "pathf=[\"features/mfcc/features.npy\",\"features/mfcc_delta/features_delta.npy\",\"features/mfcc_delta_delta/features_delta_delta.npy\"]\n",
    "pathl=[\"features/mfcc/labels.npy\",\"features/mfcc_delta/labels_delta.npy\",\"features/mfcc_delta_delta/labels_delta_delta.npy\"]\n",
    "df = [transform(pathf[0],pathl[0]),transform(pathf[1],pathl[1]),transform(pathl[2],pathl[2])]\n",
    "\n"
   ]
  },
  {
   "cell_type": "code",
   "execution_count": 45,
   "metadata": {},
   "outputs": [
    {
     "ename": "TypeError",
     "evalue": "data type \"obj\" not understood",
     "output_type": "error",
     "traceback": [
      "\u001b[1;31m---------------------------------------------------------------------------\u001b[0m",
      "\u001b[1;31mTypeError\u001b[0m                                 Traceback (most recent call last)",
      "\u001b[1;32m<ipython-input-45-a629adbb9798>\u001b[0m in \u001b[0;36m<module>\u001b[1;34m()\u001b[0m\n\u001b[0;32m      2\u001b[0m \u001b[0mlabels\u001b[0m\u001b[1;33m=\u001b[0m\u001b[0mnp\u001b[0m\u001b[1;33m.\u001b[0m\u001b[0mempty\u001b[0m\u001b[1;33m(\u001b[0m\u001b[1;33m(\u001b[0m\u001b[1;36m3\u001b[0m\u001b[1;33m)\u001b[0m\u001b[1;33m)\u001b[0m\u001b[1;33m\u001b[0m\u001b[0m\n\u001b[0;32m      3\u001b[0m \u001b[1;33m\u001b[0m\u001b[0m\n\u001b[1;32m----> 4\u001b[1;33m \u001b[0mmodels\u001b[0m\u001b[1;33m=\u001b[0m\u001b[0mnp\u001b[0m\u001b[1;33m.\u001b[0m\u001b[0mempty\u001b[0m\u001b[1;33m(\u001b[0m\u001b[1;33m(\u001b[0m\u001b[1;36m3\u001b[0m\u001b[1;33m)\u001b[0m\u001b[1;33m,\u001b[0m\u001b[0mdtype\u001b[0m\u001b[1;33m=\u001b[0m\u001b[1;34m'obj'\u001b[0m\u001b[1;33m)\u001b[0m\u001b[1;33m\u001b[0m\u001b[0m\n\u001b[0m\u001b[0;32m      5\u001b[0m \u001b[1;33m\u001b[0m\u001b[0m\n\u001b[0;32m      6\u001b[0m \u001b[1;33m\u001b[0m\u001b[0m\n",
      "\u001b[1;31mTypeError\u001b[0m: data type \"obj\" not understood"
     ]
    }
   ],
   "source": [
    "features=[]\n",
    "labels=[]\n",
    "\n",
    "models=[]\n",
    "\n",
    "\n",
    "\n",
    "for j in range(2,-1,-1):\n",
    "    print(j)\n",
    "    features.append({})\n",
    "    labels.append({})\n",
    "    models.append({})\n",
    "    \n",
    "    for ph in df[j]['label'].unique():\n",
    "        print(ph)\n",
    "        temp=df[2-j][df[j]['label']==ph]\n",
    "        features[j][ph]=np.array(temp[\"feature\"].tolist())\n",
    "        labels[2-j][ph] = np.array(temp[\"label\"].tolist())\n",
    "        models[2-j][ph]=[]\n",
    "        for i in range(1,3):\n",
    "            print(i)\n",
    "            models[j][ph].append(GaussianMixture(n_components=(int)(math.pow(2,i)),covariance_type='diag',max_iter=5))\n",
    "            print(j,\" \",ph,\" \",i)\n",
    "            print(features[j][ph]\n",
    "            models[2-j][ph][i-1].fit(features[j][ph])"
   ]
  },
  {
   "cell_type": "code",
   "execution_count": null,
   "metadata": {},
   "outputs": [],
   "source": [
    "pickle.dump(models, open(\"models_GMM\", 'wb'))"
   ]
  },
  {
   "cell_type": "code",
   "execution_count": null,
   "metadata": {},
   "outputs": [],
   "source": [
    "feature=[]\n",
    "label=[]\n",
    "for j in range(3):\n",
    "    temp=\"\"\n",
    "    temp1=\"\"\n",
    "    for ph in df[j]['label'].unique():\n",
    "        if temp==\"\":\n",
    "            temp=features[j][ph]\n",
    "            temp1=labels[j][ph]\n",
    "            \n",
    "        else:\n",
    "            temp=np.concatenate((temp,features[j][ph]),axis=0)\n",
    "            temp1=np.concatenate((temp1,labels[j][ph]),axis=0)\n",
    "        print(temp.shape)\n",
    "        \n",
    "    feature.append(temp)\n",
    "    label.append(temp1)\n",
    "        "
   ]
  },
  {
   "cell_type": "code",
   "execution_count": null,
   "metadata": {},
   "outputs": [],
   "source": [
    "delta=[]\n",
    "for j in range(3):\n",
    "  \n",
    "    comp=[]\n",
    "    mx=-10000000\n",
    "    p=''\n",
    "\n",
    "    \n",
    "    for i in range(2):\n",
    "        phoneme=[]\n",
    "        for ph in df[j]['label'].unique():\n",
    "            \n",
    "            phoneme.append(models[j][ph][i].score_samples(feature[j]).tolist())\n",
    "            \n",
    "        comp.append(phoneme)\n",
    "    \n",
    "    delta.append(comp)\n",
    "\n",
    "temp=np.array(delta)"
   ]
  },
  {
   "cell_type": "code",
   "execution_count": null,
   "metadata": {},
   "outputs": [],
   "source": [
    "tp=np.argmax(temp,axis=2)"
   ]
  },
  {
   "cell_type": "code",
   "execution_count": null,
   "metadata": {},
   "outputs": [],
   "source": [
    "phone_dic=[]\n",
    "for j in range(3):\n",
    "    phone_dic.append({v: k for k, v in dict(enumerate(df[j]['label'].unique())).items()})"
   ]
  },
  {
   "cell_type": "code",
   "execution_count": null,
   "metadata": {},
   "outputs": [],
   "source": [
    "lb=[]\n",
    "for j in range(3):\n",
    "    lb.append(np.array(list(map(lambda x:phone_dic[j][x],label[j]))))"
   ]
  },
  {
   "cell_type": "code",
   "execution_count": null,
   "metadata": {},
   "outputs": [],
   "source": [
    "row=[]\n",
    "for j in range(3):\n",
    "    column=[]\n",
    "    for i in range(2):\n",
    "        \n",
    "        column.append(np.where(tp[j][i]==lb[j])[0].shape[0]/tp[j][i].shape[0])\n",
    "    row.append(column)"
   ]
  },
  {
   "cell_type": "code",
   "execution_count": null,
   "metadata": {},
   "outputs": [],
   "source": [
    "data=pd.DataFrame(np.array(row))"
   ]
  },
  {
   "cell_type": "code",
   "execution_count": null,
   "metadata": {},
   "outputs": [],
   "source": []
  },
  {
   "cell_type": "code",
   "execution_count": 19,
   "metadata": {},
   "outputs": [],
   "source": [
    "from sklearn.mixture import GaussianMixture\n",
    "import pandas as pd\n",
    "import numpy as np\n",
    "import math\n",
    "import pickle\n",
    "from sklearn.mixture.gaussian_mixture import _compute_precision_cholesky"
   ]
  },
  {
   "cell_type": "code",
   "execution_count": 14,
   "metadata": {},
   "outputs": [],
   "source": [
    "models=pickle.load(open(\"models_GMM\",'rb'))"
   ]
  },
  {
   "cell_type": "code",
   "execution_count": null,
   "metadata": {},
   "outputs": [],
   "source": [
    "\n",
    "def transform(file1,file2):\n",
    "    x=np.load(file1).tolist()\n",
    "    y=np.load(file2).tolist()\n",
    "    return pd.DataFrame({\"feature\":x,\"label\":y})\n",
    "\n",
    "\n",
    "pathf=[\"features/mfcc_test/features_test.npy\",\"features/mfcc_test_delta/features_test_delta.npy\",\"features/mfcc_test_delta_delta/features_test_delta_delta.npy\"]\n",
    "pathl=[\"features/mfcc_test/labels_test.npy\",\"features/mfcc_test_delta/labels_test_delta.npy\",\"features/mfcc_test_delta_delta/labels_test_delta_delta.npy\"]\n",
    "df = [transform(pathf[0],pathl[0]),transform(pathf[1],pathl[1]),transform(pathl[2],pathl[2])]\n",
    "\n"
   ]
  },
  {
   "cell_type": "code",
   "execution_count": null,
   "metadata": {},
   "outputs": [],
   "source": [
    "features=[]\n",
    "labels=[]\n",
    "for j in range(0,3):\n",
    "    temp=df[j]\n",
    "    features.append(np.array(temp[\"feature\"].tolist()))\n",
    "    labels.append(np.array(temp[\"label\"].tolist()))"
   ]
  },
  {
   "cell_type": "code",
   "execution_count": null,
   "metadata": {},
   "outputs": [],
   "source": [
    "features[1].shape"
   ]
  },
  {
   "cell_type": "code",
   "execution_count": null,
   "metadata": {},
   "outputs": [],
   "source": [
    "delta=[]\n",
    "for j in range(3):\n",
    "  \n",
    "    comp=[]\n",
    "    mx=-10000000\n",
    "    p=''\n",
    "\n",
    "    \n",
    "    for i in range(2):\n",
    "        phoneme=[]\n",
    "        for ph in df[j]['label'].unique():\n",
    "            #models[j][ph][i].precisions_cholesky_ = _compute_precision_cholesky(models[j][ph][i].covars_, models[j][ph][i].covariance_type)\n",
    "\n",
    "            phoneme.append(models[j][ph][i].score_samples(features[j][0:10]).tolist())\n",
    "            \n",
    "        comp.append(phoneme)\n",
    "    \n",
    "    delta.append(comp)\n",
    "\n",
    "temp=np.array(delta)"
   ]
  },
  {
   "cell_type": "code",
   "execution_count": null,
   "metadata": {},
   "outputs": [],
   "source": [
    "tp=np.argmax(temp,axis=2)"
   ]
  },
  {
   "cell_type": "code",
   "execution_count": null,
   "metadata": {},
   "outputs": [],
   "source": [
    "phone_dic=[]\n",
    "for j in range(3):\n",
    "    phone_dic.append({v: k for k, v in dict(enumerate(df[j]['label'].unique())).items()})"
   ]
  },
  {
   "cell_type": "code",
   "execution_count": null,
   "metadata": {},
   "outputs": [],
   "source": [
    "lb=[]\n",
    "for j in range(3):\n",
    "    lb.append(np.array(list(map(lambda x:phone_dic[j][x],label[j]))))"
   ]
  },
  {
   "cell_type": "code",
   "execution_count": null,
   "metadata": {},
   "outputs": [],
   "source": [
    "row=[]\n",
    "for j in range(3):\n",
    "    column=[]\n",
    "    for i in range(2):\n",
    "        \n",
    "        column.append(np.where(tp[j][i]==lb[j])[0].shape[0]/tp[j][i].shape[0])\n",
    "    row.append(column)"
   ]
  },
  {
   "cell_type": "code",
   "execution_count": null,
   "metadata": {},
   "outputs": [],
   "source": [
    "data=pd.DataFrame(np.array(row))\n",
    "print(data)"
   ]
  },
  {
   "cell_type": "code",
   "execution_count": null,
   "metadata": {},
   "outputs": [],
   "source": [
    "row=[]\n",
    "for j in range(3):\n",
    "    column=[]\n",
    "    for i in range(2):\n",
    "        \n",
    "        column.append(np.where(tp[j][i]!=lb[j])[0].shape[0]/tp[j][i].shape[0])\n",
    "    row.append(column)\n",
    "    \n",
    "data=pd.DataFrame(np.array(row))\n",
    "print(data)"
   ]
  },
  {
   "cell_type": "code",
   "execution_count": null,
   "metadata": {},
   "outputs": [],
   "source": []
  }
 ],
 "metadata": {
  "kernelspec": {
   "display_name": "Python 3",
   "language": "python",
   "name": "python3"
  },
  "language_info": {
   "codemirror_mode": {
    "name": "ipython",
    "version": 3
   },
   "file_extension": ".py",
   "mimetype": "text/x-python",
   "name": "python",
   "nbconvert_exporter": "python",
   "pygments_lexer": "ipython3",
   "version": "3.6.5"
  }
 },
 "nbformat": 4,
 "nbformat_minor": 2
}
